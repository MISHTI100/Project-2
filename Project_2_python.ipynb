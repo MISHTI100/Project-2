{
  "nbformat": 4,
  "nbformat_minor": 0,
  "metadata": {
    "colab": {
      "provenance": [],
      "authorship_tag": "ABX9TyMPbMXfCmrQopv5N6OlnURQ",
      "include_colab_link": true
    },
    "kernelspec": {
      "name": "python3",
      "display_name": "Python 3"
    },
    "language_info": {
      "name": "python"
    }
  },
  "cells": [
    {
      "cell_type": "markdown",
      "metadata": {
        "id": "view-in-github",
        "colab_type": "text"
      },
      "source": [
        "<a href=\"https://colab.research.google.com/github/MISHTI100/Project-2/blob/main/Project_2_python.ipynb\" target=\"_parent\"><img src=\"https://colab.research.google.com/assets/colab-badge.svg\" alt=\"Open In Colab\"/></a>"
      ]
    },
    {
      "cell_type": "code",
      "execution_count": 1,
      "metadata": {
        "colab": {
          "base_uri": "https://localhost:8080/"
        },
        "id": "Maw-z3YkqEyW",
        "outputId": "d35bbaf2-8319-4b33-a147-7abed4ee6f98"
      },
      "outputs": [
        {
          "output_type": "stream",
          "name": "stdout",
          "text": [
            "Enter a sentence or paragraph: HI! How are you\n",
            "Word count: 4\n"
          ]
        }
      ],
      "source": [
        "def word_counter(text):\n",
        "    words = text.split()\n",
        "    return len(words)\n",
        "\n",
        "user_input = input(\"Enter a sentence or paragraph: \")\n",
        "\n",
        "word_count = word_counter(user_input)\n",
        "\n",
        "print(f\"Word count: {word_count}\")\n"
      ]
    }
  ]
}